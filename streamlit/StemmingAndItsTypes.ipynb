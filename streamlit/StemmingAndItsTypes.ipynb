{
 "cells": [
  {
   "cell_type": "code",
   "execution_count": 2,
   "id": "c7911468-fbf4-4e95-884c-3d13abf71fac",
   "metadata": {},
   "outputs": [],
   "source": [
    "## classification problem\n",
    "## comments on the products is a positive review or negative review\n",
    "## comments/reviews -> eating, eat , eaten -> \"eat\" is stem word"
   ]
  },
  {
   "cell_type": "code",
   "execution_count": 3,
   "id": "a7f6edbd-15bf-44df-a544-956dcf044a4d",
   "metadata": {},
   "outputs": [],
   "source": [
    "words=[\"eating\",\"eats\",\"eaten\",\"writing\",\"writes\",\"programming\",\"program\",\"history\",\"finally\",\"finalize\"]"
   ]
  },
  {
   "cell_type": "code",
   "execution_count": 2,
   "id": "8582db12-327f-46f1-9c1b-3106e4173c33",
   "metadata": {},
   "outputs": [],
   "source": [
    "## Porter Stemmer\n",
    "from nltk.stem import PorterStemmer"
   ]
  },
  {
   "cell_type": "code",
   "execution_count": 4,
   "id": "5d70fef9-bd66-46a1-a10b-0d6011f567b5",
   "metadata": {},
   "outputs": [],
   "source": [
    "stemming=PorterStemmer()"
   ]
  },
  {
   "cell_type": "code",
   "execution_count": 5,
   "id": "1e2dcc55-0558-4fe8-82f9-55f3b0c45d04",
   "metadata": {},
   "outputs": [
    {
     "name": "stdout",
     "output_type": "stream",
     "text": [
      "eating --->eat\n",
      "eats --->eat\n",
      "eaten --->eaten\n",
      "writing --->write\n",
      "writes --->write\n",
      "programming --->program\n",
      "program --->program\n",
      "history --->histori\n",
      "finally --->final\n",
      "finalize --->final\n"
     ]
    }
   ],
   "source": [
    "for word in words:\n",
    "    print(word + \" --->\" + stemming.stem(word))"
   ]
  },
  {
   "cell_type": "code",
   "execution_count": 6,
   "id": "41ec2c81-ce0c-4e34-becb-149bf1b6a63e",
   "metadata": {},
   "outputs": [
    {
     "data": {
      "text/plain": [
       "'congratul'"
      ]
     },
     "execution_count": 6,
     "metadata": {},
     "output_type": "execute_result"
    }
   ],
   "source": [
    "stemming.stem(\"congratulations\")"
   ]
  },
  {
   "cell_type": "code",
   "execution_count": 7,
   "id": "f0a6d8c5-6b87-4fa0-bbc5-89a8773123ab",
   "metadata": {},
   "outputs": [
    {
     "data": {
      "text/plain": [
       "'sit'"
      ]
     },
     "execution_count": 7,
     "metadata": {},
     "output_type": "execute_result"
    }
   ],
   "source": [
    "stemming.stem(\"sitting\")"
   ]
  },
  {
   "cell_type": "code",
   "execution_count": 8,
   "id": "a74e0e34-cb93-4ded-9b17-b3e3d1db4841",
   "metadata": {},
   "outputs": [],
   "source": [
    "## Regex Stemmer\n",
    "from nltk.stem import RegexpStemmer"
   ]
  },
  {
   "cell_type": "code",
   "execution_count": 9,
   "id": "8931637d-0be4-4084-b2de-cc683b205bde",
   "metadata": {},
   "outputs": [],
   "source": [
    "regstemmer=RegexpStemmer('ing$|s$|e$|able$',min=4)"
   ]
  },
  {
   "cell_type": "code",
   "execution_count": 10,
   "id": "f1e5497b-3276-4492-86af-b9f0585cbd04",
   "metadata": {},
   "outputs": [
    {
     "data": {
      "text/plain": [
       "'eat'"
      ]
     },
     "execution_count": 10,
     "metadata": {},
     "output_type": "execute_result"
    }
   ],
   "source": [
    "regstemmer.stem('eating')"
   ]
  },
  {
   "cell_type": "code",
   "execution_count": 11,
   "id": "7565821e-888a-48aa-92d5-f5160fd830c2",
   "metadata": {},
   "outputs": [
    {
     "data": {
      "text/plain": [
       "'ingeat'"
      ]
     },
     "execution_count": 11,
     "metadata": {},
     "output_type": "execute_result"
    }
   ],
   "source": [
    "regstemmer.stem('ingeating')"
   ]
  },
  {
   "cell_type": "code",
   "execution_count": 12,
   "id": "88049ba8-2430-4d9e-8f23-dfb6edf5a97c",
   "metadata": {},
   "outputs": [],
   "source": [
    "regstemmer=RegexpStemmer('ing|s$|e$|able$',min=4)"
   ]
  },
  {
   "cell_type": "code",
   "execution_count": 34,
   "id": "b6d5e450-ce2d-4c75-b9be-592325853623",
   "metadata": {},
   "outputs": [
    {
     "data": {
      "text/plain": [
       "'eat'"
      ]
     },
     "execution_count": 34,
     "metadata": {},
     "output_type": "execute_result"
    }
   ],
   "source": [
    "regstemmer.stem('ingeating')"
   ]
  },
  {
   "cell_type": "code",
   "execution_count": 13,
   "id": "b334a6aa-4f98-4ce9-904c-4dea5ce1bc39",
   "metadata": {},
   "outputs": [],
   "source": [
    "## Snowball Stemmer\n",
    "from nltk.stem import SnowballStemmer"
   ]
  },
  {
   "cell_type": "code",
   "execution_count": 16,
   "id": "ab0f0715-80e9-4949-8aa7-aa71be91e214",
   "metadata": {},
   "outputs": [],
   "source": [
    "snowball_stemmer=SnowballStemmer('english')"
   ]
  },
  {
   "cell_type": "code",
   "execution_count": 17,
   "id": "cd6ee160-c7ca-4bc4-8f52-94c878cc727e",
   "metadata": {},
   "outputs": [
    {
     "name": "stdout",
     "output_type": "stream",
     "text": [
      "eating--->eat\n",
      "eats--->eat\n",
      "eaten--->eaten\n",
      "writing--->write\n",
      "writes--->write\n",
      "programming--->program\n",
      "program--->program\n",
      "history--->histori\n",
      "finally--->final\n",
      "finalize--->final\n"
     ]
    }
   ],
   "source": [
    "for word in words:\n",
    "    print(word+\"--->\"+snowball_stemmer.stem(word))"
   ]
  },
  {
   "cell_type": "markdown",
   "id": "f2952506-e932-4a8b-b9fd-476c5e79d04e",
   "metadata": {},
   "source": []
  },
  {
   "cell_type": "code",
   "execution_count": 14,
   "id": "e918b4a9-409e-4a96-b539-91fe9e28dfdb",
   "metadata": {},
   "outputs": [
    {
     "data": {
      "text/plain": [
       "('fairli', 'sportingli')"
      ]
     },
     "execution_count": 14,
     "metadata": {},
     "output_type": "execute_result"
    }
   ],
   "source": [
    "stemming.stem(\"fairly\"), stemming.stem(\"sportingly\")"
   ]
  },
  {
   "cell_type": "code",
   "execution_count": 18,
   "id": "04572054-3ecf-405d-a8d5-b85bbb3affc6",
   "metadata": {},
   "outputs": [
    {
     "data": {
      "text/plain": [
       "('fair', 'sport')"
      ]
     },
     "execution_count": 18,
     "metadata": {},
     "output_type": "execute_result"
    }
   ],
   "source": [
    "snowball_stemmer.stem(\"fairly\"), snowball_stemmer.stem(\"sportingly\")"
   ]
  },
  {
   "cell_type": "code",
   "execution_count": null,
   "id": "a8924562-4eb0-4a57-bfaf-67361f231a9b",
   "metadata": {},
   "outputs": [],
   "source": []
  }
 ],
 "metadata": {
  "kernelspec": {
   "display_name": "Python 3",
   "language": "python",
   "name": "python3"
  },
  "language_info": {
   "codemirror_mode": {
    "name": "ipython",
    "version": 3
   },
   "file_extension": ".py",
   "mimetype": "text/x-python",
   "name": "python",
   "nbconvert_exporter": "python",
   "pygments_lexer": "ipython3",
   "version": "3.12.8"
  }
 },
 "nbformat": 4,
 "nbformat_minor": 5
}
